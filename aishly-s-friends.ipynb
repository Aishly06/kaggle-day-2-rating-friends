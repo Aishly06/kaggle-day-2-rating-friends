{
 "cells": [
  {
   "cell_type": "code",
   "execution_count": 1,
   "id": "23fce840",
   "metadata": {
    "_cell_guid": "b1076dfc-b9ad-4769-8c92-a6c4dae69d19",
    "_uuid": "8f2839f25d086af736a60e9eeb907d3b93b6e0e5",
    "execution": {
     "iopub.execute_input": "2022-06-22T07:31:35.137643Z",
     "iopub.status.busy": "2022-06-22T07:31:35.136907Z",
     "iopub.status.idle": "2022-06-22T07:31:35.152166Z",
     "shell.execute_reply": "2022-06-22T07:31:35.151154Z"
    },
    "papermill": {
     "duration": 0.022884,
     "end_time": "2022-06-22T07:31:35.154571",
     "exception": false,
     "start_time": "2022-06-22T07:31:35.131687",
     "status": "completed"
    },
    "tags": []
   },
   "outputs": [],
   "source": [
    "\n",
    "import numpy as np\n",
    "import pandas as pd \n",
    "import matplotlib.pyplot as plt"
   ]
  },
  {
   "cell_type": "code",
   "execution_count": 2,
   "id": "ff9d27f3",
   "metadata": {
    "execution": {
     "iopub.execute_input": "2022-06-22T07:31:35.161090Z",
     "iopub.status.busy": "2022-06-22T07:31:35.159892Z",
     "iopub.status.idle": "2022-06-22T07:31:35.207644Z",
     "shell.execute_reply": "2022-06-22T07:31:35.206115Z"
    },
    "papermill": {
     "duration": 0.05532,
     "end_time": "2022-06-22T07:31:35.212087",
     "exception": false,
     "start_time": "2022-06-22T07:31:35.156767",
     "status": "completed"
    },
    "tags": []
   },
   "outputs": [
    {
     "data": {
      "text/html": [
       "<div>\n",
       "<style scoped>\n",
       "    .dataframe tbody tr th:only-of-type {\n",
       "        vertical-align: middle;\n",
       "    }\n",
       "\n",
       "    .dataframe tbody tr th {\n",
       "        vertical-align: top;\n",
       "    }\n",
       "\n",
       "    .dataframe thead th {\n",
       "        text-align: right;\n",
       "    }\n",
       "</style>\n",
       "<table border=\"1\" class=\"dataframe\">\n",
       "  <thead>\n",
       "    <tr style=\"text-align: right;\">\n",
       "      <th></th>\n",
       "      <th>title</th>\n",
       "      <th>plot</th>\n",
       "      <th>ratings</th>\n",
       "      <th>date</th>\n",
       "      <th>total_reviews</th>\n",
       "    </tr>\n",
       "  </thead>\n",
       "  <tbody>\n",
       "    <tr>\n",
       "      <th>0</th>\n",
       "      <td>The One Where Monica Gets a Roommate</td>\n",
       "      <td>Monica and the gang introduce Rachel to the \"r...</td>\n",
       "      <td>8.3</td>\n",
       "      <td>22 Sep. 1994</td>\n",
       "      <td>-8,583</td>\n",
       "    </tr>\n",
       "    <tr>\n",
       "      <th>1</th>\n",
       "      <td>The One with the Sonogram at the End</td>\n",
       "      <td>Ross finds out his ex-wife is pregnant. Rachel...</td>\n",
       "      <td>8.0</td>\n",
       "      <td>29 Sep. 1994</td>\n",
       "      <td>-6,607</td>\n",
       "    </tr>\n",
       "    <tr>\n",
       "      <th>2</th>\n",
       "      <td>The One with the Thumb</td>\n",
       "      <td>Monica becomes irritated when everyone likes h...</td>\n",
       "      <td>8.1</td>\n",
       "      <td>6 Oct. 1994</td>\n",
       "      <td>-6,213</td>\n",
       "    </tr>\n",
       "    <tr>\n",
       "      <th>3</th>\n",
       "      <td>The One with George Stephanopoulos</td>\n",
       "      <td>Joey and Chandler take Ross to a hockey game t...</td>\n",
       "      <td>8.1</td>\n",
       "      <td>13 Oct. 1994</td>\n",
       "      <td>-6,035</td>\n",
       "    </tr>\n",
       "    <tr>\n",
       "      <th>4</th>\n",
       "      <td>The One with the East German Laundry Detergent</td>\n",
       "      <td>Eager to spend time with Rachel, Ross pretends...</td>\n",
       "      <td>8.4</td>\n",
       "      <td>20 Oct. 1994</td>\n",
       "      <td>-6,029</td>\n",
       "    </tr>\n",
       "  </tbody>\n",
       "</table>\n",
       "</div>"
      ],
      "text/plain": [
       "                                            title  \\\n",
       "0            The One Where Monica Gets a Roommate   \n",
       "1            The One with the Sonogram at the End   \n",
       "2                          The One with the Thumb   \n",
       "3              The One with George Stephanopoulos   \n",
       "4  The One with the East German Laundry Detergent   \n",
       "\n",
       "                                                plot  ratings          date  \\\n",
       "0  Monica and the gang introduce Rachel to the \"r...      8.3  22 Sep. 1994   \n",
       "1  Ross finds out his ex-wife is pregnant. Rachel...      8.0  29 Sep. 1994   \n",
       "2  Monica becomes irritated when everyone likes h...      8.1   6 Oct. 1994   \n",
       "3  Joey and Chandler take Ross to a hockey game t...      8.1  13 Oct. 1994   \n",
       "4  Eager to spend time with Rachel, Ross pretends...      8.4  20 Oct. 1994   \n",
       "\n",
       "  total_reviews  \n",
       "0        -8,583  \n",
       "1        -6,607  \n",
       "2        -6,213  \n",
       "3        -6,035  \n",
       "4        -6,029  "
      ]
     },
     "execution_count": 2,
     "metadata": {},
     "output_type": "execute_result"
    }
   ],
   "source": [
    "training_set = pd.read_csv(\"../input/f11gxf-fxg-fg-xcb/friends_train_ratings.csv\")\n",
    "training_set.head()"
   ]
  }
 ],
 "metadata": {
  "kernelspec": {
   "display_name": "Python 3",
   "language": "python",
   "name": "python3"
  },
  "language_info": {
   "codemirror_mode": {
    "name": "ipython",
    "version": 3
   },
   "file_extension": ".py",
   "mimetype": "text/x-python",
   "name": "python",
   "nbconvert_exporter": "python",
   "pygments_lexer": "ipython3",
   "version": "3.7.12"
  },
  "papermill": {
   "default_parameters": {},
   "duration": 14.538322,
   "end_time": "2022-06-22T07:31:36.139363",
   "environment_variables": {},
   "exception": null,
   "input_path": "__notebook__.ipynb",
   "output_path": "__notebook__.ipynb",
   "parameters": {},
   "start_time": "2022-06-22T07:31:21.601041",
   "version": "2.3.4"
  }
 },
 "nbformat": 4,
 "nbformat_minor": 5
}
